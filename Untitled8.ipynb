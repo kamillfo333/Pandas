{
  "nbformat": 4,
  "nbformat_minor": 0,
  "metadata": {
    "colab": {
      "provenance": [],
      "include_colab_link": true
    },
    "kernelspec": {
      "name": "python3",
      "display_name": "Python 3"
    },
    "language_info": {
      "name": "python"
    }
  },
  "cells": [
    {
      "cell_type": "markdown",
      "metadata": {
        "id": "view-in-github",
        "colab_type": "text"
      },
      "source": [
        "<a href=\"https://colab.research.google.com/github/kamillfo333/Pandas/blob/main/Untitled8.ipynb\" target=\"_parent\"><img src=\"https://colab.research.google.com/assets/colab-badge.svg\" alt=\"Open In Colab\"/></a>"
      ]
    },
    {
      "cell_type": "markdown",
      "source": [
        "Lecture 8. Pandas продолжение"
      ],
      "metadata": {
        "id": "JPglqEe2nKNV"
      }
    },
    {
      "cell_type": "code",
      "source": [
        "import numpy as np\n",
        "import pandas as pd\n",
        "import scipy.stats as sps"
      ],
      "metadata": {
        "id": "OPSuP5NmnPG7"
      },
      "execution_count": null,
      "outputs": []
    },
    {
      "cell_type": "code",
      "source": [
        "# Сгенерируем случайные числа и представим их в виде DataFrame.\n",
        "df = pd.DataFrame(sps.norm.rvs(size=(10,4)),\n",
        "                  columns=[\"A\", \"B\", \"C\", \"D\"])\n",
        "print(df)"
      ],
      "metadata": {
        "colab": {
          "base_uri": "https://localhost:8080/"
        },
        "id": "HvrFXGMtnWLe",
        "outputId": "9ac8a576-24d3-4809-c4f0-634aa14e1829"
      },
      "execution_count": null,
      "outputs": [
        {
          "output_type": "stream",
          "name": "stdout",
          "text": [
            "          A         B         C         D\n",
            "0  1.344512 -0.640795 -1.377347  2.028890\n",
            "1 -0.140351 -0.965021 -0.751043  0.353194\n",
            "2  1.434810 -0.361714  0.575492  0.872241\n",
            "3 -0.582454 -0.368123  1.072184 -1.066579\n",
            "4 -0.305685  0.901344 -1.160593  0.365693\n",
            "5  1.139211  1.439508  1.237767  2.148744\n",
            "6  0.830836  0.578301 -0.980310  1.704734\n",
            "7  0.459649 -0.197709 -0.112638  1.528933\n",
            "8 -0.252678  0.943000 -0.598331  0.723848\n",
            "9  0.481871  0.123193  0.511384 -1.076261\n"
          ]
        }
      ]
    },
    {
      "cell_type": "markdown",
      "source": [
        "Выведем описательные статистики по столбцам — количество\n",
        "значений, среднее, стандартное отклонение (корень из дисперсии), минимум,\n",
        "квантили, максимум."
      ],
      "metadata": {
        "id": "ojfPW52_n6xj"
      }
    },
    {
      "cell_type": "code",
      "source": [
        "import pandas as pd\n",
        "import scipy.stats as sps\n",
        "df = pd.DataFrame(sps.norm.rvs(size=(10, 4)),\n",
        "                  columns=[\"A\", \"B\", \"C\", \"D\"])\n",
        "print(df.describe())"
      ],
      "metadata": {
        "colab": {
          "base_uri": "https://localhost:8080/"
        },
        "id": "pc-NFQeqn7-l",
        "outputId": "f15ce880-fe62-4b4c-c562-32d0036a005d"
      },
      "execution_count": null,
      "outputs": [
        {
          "output_type": "stream",
          "name": "stdout",
          "text": [
            "               A          B          C          D\n",
            "count  10.000000  10.000000  10.000000  10.000000\n",
            "mean    0.176673  -0.252114  -0.237988  -0.042048\n",
            "std     1.011586   0.848317   1.122646   0.755061\n",
            "min    -1.233120  -1.445726  -1.786881  -0.929046\n",
            "25%    -0.295582  -0.781657  -0.960540  -0.621448\n",
            "50%     0.047331  -0.190910  -0.639007  -0.099567\n",
            "75%     0.659599   0.273066   0.515671   0.452481\n",
            "max     1.877181   1.128148   1.692162   1.329050\n"
          ]
        }
      ]
    },
    {
      "cell_type": "markdown",
      "source": [
        "Среднее по столбцам"
      ],
      "metadata": {
        "id": "hb0uEeSIoFxm"
      }
    },
    {
      "cell_type": "code",
      "source": [
        "import pandas as pd\n",
        "import scipy.stats as sps\n",
        "\n",
        "df = pd.DataFrame(sps.norm.rvs(size=(10,4)),\n",
        "                  columns=[\"A\", \"B\", \"C\", \"D\"])\n",
        "print(df.mean())"
      ],
      "metadata": {
        "colab": {
          "base_uri": "https://localhost:8080/"
        },
        "id": "iRj1-K5JoJjV",
        "outputId": "35c41b05-43ed-48a2-c8a0-cc0b82dd49b9"
      },
      "execution_count": null,
      "outputs": [
        {
          "output_type": "stream",
          "name": "stdout",
          "text": [
            "A   -0.375881\n",
            "B    0.220318\n",
            "C   -0.107582\n",
            "D   -0.220059\n",
            "dtype: float64\n"
          ]
        }
      ]
    },
    {
      "cell_type": "markdown",
      "source": [
        "Оценка матрицы корреляций значений в столбцах"
      ],
      "metadata": {
        "id": "p1YhgdW-obUO"
      }
    },
    {
      "cell_type": "code",
      "source": [
        "import pandas as pd\n",
        "import scipy.stats as sps\n",
        "\n",
        "df = pd.DataFrame(sps.norm.rvs(size=(10, 4)),\n",
        "                  columns=[\"A\", \"B\", \"C\", \"D\"])\n",
        "print(df.corr())"
      ],
      "metadata": {
        "colab": {
          "base_uri": "https://localhost:8080/"
        },
        "id": "mw6ScuPYobkY",
        "outputId": "199a8d86-1bfb-47f6-ade5-755637c5b804"
      },
      "execution_count": null,
      "outputs": [
        {
          "output_type": "stream",
          "name": "stdout",
          "text": [
            "          A         B         C         D\n",
            "A  1.000000  0.009252  0.104319 -0.346836\n",
            "B  0.009252  1.000000  0.019663  0.414391\n",
            "C  0.104319  0.019663  1.000000  0.015128\n",
            "D -0.346836  0.414391  0.015128  1.000000\n"
          ]
        }
      ]
    },
    {
      "cell_type": "markdown",
      "source": [
        "Применение функции к данным. Для примера посчитаем разброс\n",
        "значений — разница максимума и минимума."
      ],
      "metadata": {
        "id": "fugLBatXobzp"
      }
    },
    {
      "cell_type": "code",
      "source": [
        "import pandas as pd\n",
        "import scipy.stats as sps\n",
        "\n",
        "df = pd.DataFrame(sps.norm.rvs(size=(10, 4)),\n",
        "                  columns=[\"A\", \"B\", \"C\", \"D\"])\n",
        "print(df.apply(lambda x: x.max() - x.min()))"
      ],
      "metadata": {
        "colab": {
          "base_uri": "https://localhost:8080/"
        },
        "id": "NRDcJ2zwocDJ",
        "outputId": "18c1a980-1a84-42d4-e919-67c7365864f8"
      },
      "execution_count": null,
      "outputs": [
        {
          "output_type": "stream",
          "name": "stdout",
          "text": [
            "A    3.484152\n",
            "B    3.235919\n",
            "C    2.648435\n",
            "D    2.908847\n",
            "dtype: float64\n"
          ]
        }
      ]
    },
    {
      "cell_type": "markdown",
      "source": [
        "Объединение таблиц"
      ],
      "metadata": {
        "id": "eRcNTPY2o89D"
      }
    },
    {
      "cell_type": "code",
      "source": [
        "import pandas as pd\n",
        "import scipy.stats as sps\n",
        "\n",
        "df = pd.DataFrame(sps.norm.rvs(size=(10, 4)),\n",
        "                  columns=[\"A\", \"B\", \"C\", \"D\"])\n",
        "other = df[:4].copy() # Полное копирование\n",
        "other[\"flag\"] = other[\"D\"] > 0\n",
        "other[\"D\"] = other[\"D\"] ** 2\n",
        "df.append(other, ignore_index=True, sort=False)\n",
        "print(df)"
      ],
      "metadata": {
        "colab": {
          "base_uri": "https://localhost:8080/"
        },
        "id": "dHhheRcgo7EA",
        "outputId": "2bc2fb08-aa48-41c0-b3cf-28a1f3d27221"
      },
      "execution_count": null,
      "outputs": [
        {
          "output_type": "stream",
          "name": "stdout",
          "text": [
            "          A         B         C         D\n",
            "0 -0.132072 -0.202599  0.214860 -1.205647\n",
            "1 -0.100030 -0.072004  0.602416  1.438157\n",
            "2 -0.313704 -0.255693  0.570567  0.028625\n",
            "3 -0.355878  0.680750  0.321401 -0.842576\n",
            "4 -0.601018 -0.988702 -1.350637 -0.232692\n",
            "5  0.909077  0.363999 -0.196946 -0.036694\n",
            "6 -0.632819 -0.834234  1.206098  0.961585\n",
            "7 -0.228345 -0.059288 -0.929236 -0.981548\n",
            "8  0.413181  0.223889  1.384518  0.241277\n",
            "9 -2.135823  0.548474  0.219098  0.843937\n"
          ]
        }
      ]
    },
    {
      "cell_type": "markdown",
      "source": [
        "Функция pd.concat"
      ],
      "metadata": {
        "id": "Ec7s1YL-pnZl"
      }
    },
    {
      "cell_type": "code",
      "source": [
        "import pandas as pd\n",
        "import scipy.stats as sps\n",
        "\n",
        "df = pd.DataFrame(sps.norm.rvs(size=(10, 4)),\n",
        "                  columns=[\"A\", \"B\", \"C\", \"D\"])\n",
        "print(pd.concat([df[:5], df[5:]]))"
      ],
      "metadata": {
        "colab": {
          "base_uri": "https://localhost:8080/"
        },
        "id": "3xr7wwi2poJM",
        "outputId": "aa2af031-db72-48bd-e9ab-5335482d69e4"
      },
      "execution_count": null,
      "outputs": [
        {
          "output_type": "stream",
          "name": "stdout",
          "text": [
            "          A         B         C         D\n",
            "0  0.706725  0.158640  1.172263 -1.328754\n",
            "1 -0.037439 -0.778866 -2.561238 -0.615613\n",
            "2 -2.069186  1.598207 -0.935536 -1.892254\n",
            "3 -0.113009  1.202225 -0.285534 -0.628901\n",
            "4 -0.650653 -1.194792  1.277992 -1.438479\n",
            "5  0.830261 -0.844572  0.451599 -0.812498\n",
            "6 -0.068027 -0.705929 -1.043448  0.296556\n",
            "7  1.361847 -1.076666 -0.632028  0.164183\n",
            "8  0.947429  0.536755 -0.433736  1.842651\n",
            "9  0.734962  0.540665 -0.922953 -0.163291\n"
          ]
        }
      ]
    },
    {
      "cell_type": "markdown",
      "source": [
        "Функции pd.merge и df.join"
      ],
      "metadata": {
        "id": "NEip85ggp8_u"
      }
    },
    {
      "cell_type": "code",
      "source": [
        "import pandas as pd\n",
        "left = pd.DataFrame({\"key\": [\"A\", \"A\"], \"lval\": [1, 2]})\n",
        "right = pd.DataFrame({\"key\": [\"A\", \"A\"], \"rval\": [4, 5]})\n",
        "print(left)"
      ],
      "metadata": {
        "colab": {
          "base_uri": "https://localhost:8080/"
        },
        "id": "nnXUe_dcp9oW",
        "outputId": "27d20d6b-b2da-44ad-de7a-6acd5249c02f"
      },
      "execution_count": null,
      "outputs": [
        {
          "output_type": "stream",
          "name": "stdout",
          "text": [
            "  key  lval\n",
            "0   A     1\n",
            "1   A     2\n"
          ]
        }
      ]
    },
    {
      "cell_type": "code",
      "source": [
        "import pandas as pd\n",
        "left = pd.DataFrame({\"key\": [\"A\", \"A\"], \"lval\": [1, 2]})\n",
        "right = pd.DataFrame({\"key\": [\"A\", \"A\"], \"rval\": [4, 5]})\n",
        "print(right)"
      ],
      "metadata": {
        "colab": {
          "base_uri": "https://localhost:8080/"
        },
        "id": "jllx9_3Bqh6H",
        "outputId": "f37b8958-7610-4f1a-db10-e4e4d6066889"
      },
      "execution_count": null,
      "outputs": [
        {
          "output_type": "stream",
          "name": "stdout",
          "text": [
            "  key  rval\n",
            "0   A     4\n",
            "1   A     5\n"
          ]
        }
      ]
    },
    {
      "cell_type": "markdown",
      "source": [
        "В результате объединения получаем 4 строки — для каждой строки из\n",
        "левой таблице есть две строки из правой таблицы с таким же ключом."
      ],
      "metadata": {
        "id": "feuX8Nr2q9nr"
      }
    },
    {
      "cell_type": "code",
      "source": [
        "import pandas as pd\n",
        "import scipy.stats as sps\n",
        "left = pd.DataFrame({\"key\": [\"A\", \"A\"], \"lval\": [1, 2]})\n",
        "right = pd.DataFrame({\"key\": [\"A\", \"A\"], \"rval\": [4, 5]})\n",
        "df=pd.merge(left, right, on=\"key\")\n",
        "print(df)"
      ],
      "metadata": {
        "colab": {
          "base_uri": "https://localhost:8080/"
        },
        "id": "8AFTdKCOq-VC",
        "outputId": "209a4d47-ecff-495c-cdf6-0d1f273e8604"
      },
      "execution_count": null,
      "outputs": [
        {
          "output_type": "stream",
          "name": "stdout",
          "text": [
            "  key  lval  rval\n",
            "0   A     1     4\n",
            "1   A     1     5\n",
            "2   A     2     4\n",
            "3   A     2     5\n"
          ]
        }
      ]
    },
    {
      "cell_type": "markdown",
      "source": [
        "В таблицах ключи не повторяются"
      ],
      "metadata": {
        "id": "NzBberjornVi"
      }
    },
    {
      "cell_type": "code",
      "source": [
        "import pandas as pd\n",
        "import scipy.stats as sps\n",
        "left = pd.DataFrame({\"key\": [\"A\", \"B\"], \"val\": [1, 2]})\n",
        "right = pd.DataFrame({\"key\": [\"A\", \"B\"], \"rval\": [4, 5]})\n",
        "print(\"Left:\")\n",
        "print(left)\n",
        "print(\"\\nRight:\")\n",
        "print(right)"
      ],
      "metadata": {
        "colab": {
          "base_uri": "https://localhost:8080/"
        },
        "id": "_2NGdaILrn5L",
        "outputId": "3e6e5e4d-a257-4a5f-85b0-af04e2e2fa5d"
      },
      "execution_count": null,
      "outputs": [
        {
          "output_type": "stream",
          "name": "stdout",
          "text": [
            "Left:\n",
            "  key  val\n",
            "0   A    1\n",
            "1   B    2\n",
            "\n",
            "Right:\n",
            "  key  rval\n",
            "0   A     4\n",
            "1   B     5\n"
          ]
        }
      ]
    },
    {
      "cell_type": "code",
      "source": [
        "import pandas as pd\n",
        "import scipy.stats as sps\n",
        "left = pd.DataFrame({\"key\": [\"A\", \"B\"],\"lval\": [1, 2]})\n",
        "right = pd.DataFrame({\"key\": [\"A\", \"B\"], \"rval\": [4, 5]})\n",
        "print(\"Left:\")\n",
        "print(left)\n",
        "print(\"\\nRight:\")\n",
        "print(right)\n",
        "df=pd.merge(left, right, on=\"key\")\n",
        "print(\"\\nMerge:\")\n",
        "print(df)"
      ],
      "metadata": {
        "colab": {
          "base_uri": "https://localhost:8080/"
        },
        "id": "2Dp3vauYr_GM",
        "outputId": "47078230-df20-49a2-ea25-bf2d0fbf8829"
      },
      "execution_count": null,
      "outputs": [
        {
          "output_type": "stream",
          "name": "stdout",
          "text": [
            "Left:\n",
            "  key  lval\n",
            "0   A     1\n",
            "1   B     2\n",
            "\n",
            "Right:\n",
            "  key  rval\n",
            "0   A     4\n",
            "1   B     5\n",
            "\n",
            "Merge:\n",
            "  key  lval  rval\n",
            "0   A     1     4\n",
            "1   B     2     5\n"
          ]
        }
      ]
    },
    {
      "cell_type": "markdown",
      "source": [
        "Посмотрим на различные типы объединения. Сооздадим и\n",
        "напечатаем две таблицы."
      ],
      "metadata": {
        "id": "VqFKthgawuJO"
      }
    },
    {
      "cell_type": "code",
      "source": [
        "import pandas as pd\n",
        "import scipy.stats as sps\n",
        "left = pd.DataFrame({\"lkey\": [\"A\", \"B\", \"C\", \"A\"], \"value\": range(4)})\n",
        "right = pd.DataFrame({\"rkey\": [\"A\", \"B\", \"D\", \"B\"], \"value\": range(4, 8)})\n",
        "print(\"Left:\")\n",
        "print(left)\n",
        "print(\"\\nRight:\")\n",
        "print(right)"
      ],
      "metadata": {
        "colab": {
          "base_uri": "https://localhost:8080/"
        },
        "id": "hXISTUZrwusq",
        "outputId": "f6651fad-9254-42d9-e7d7-4317d477f4d6"
      },
      "execution_count": null,
      "outputs": [
        {
          "output_type": "stream",
          "name": "stdout",
          "text": [
            "Left:\n",
            "  lkey  value\n",
            "0    A      0\n",
            "1    B      1\n",
            "2    C      2\n",
            "3    A      3\n",
            "\n",
            "Right:\n",
            "  rkey  value\n",
            "0    A      4\n",
            "1    B      5\n",
            "2    D      6\n",
            "3    B      7\n"
          ]
        }
      ]
    },
    {
      "cell_type": "markdown",
      "source": [
        "Внешнее слияние — используются ключи из объединения списков\n",
        "ключей. Иначе говоря, используются ключи, которые есть хотя бы в одной из\n",
        "таблиц. Если в другой таблице таких ключей нет, то ставятся пропуски."
      ],
      "metadata": {
        "id": "vQi0hFmRyWjW"
      }
    },
    {
      "cell_type": "code",
      "source": [
        "import pandas as pd\n",
        "import scipy.stats as sps\n",
        "left = pd.DataFrame({\"lkey\": [\"A\", \"B\", \"C\", \"A\"], \"value\": range(4)})\n",
        "right = pd.DataFrame({\"rkey\": [\"A\", \"B\", \"D\", \"B\"], \"value\": range(4, 8)})\n",
        "print(\"Left:\")\n",
        "print(left)\n",
        "print(\"\\nRight:\")\n",
        "print(right)\n",
        "df=pd.merge(left, right, left_on=\"lkey\", right_on=\"rkey\", how=\"outer\")\n",
        "print(\"Merge:\")\n",
        "print(df)"
      ],
      "metadata": {
        "colab": {
          "base_uri": "https://localhost:8080/"
        },
        "id": "F7gH1A02yXD8",
        "outputId": "94fe5922-3814-4585-c0a4-d8bbf07b1084"
      },
      "execution_count": null,
      "outputs": [
        {
          "output_type": "stream",
          "name": "stdout",
          "text": [
            "Left:\n",
            "  lkey  value\n",
            "0    A      0\n",
            "1    B      1\n",
            "2    C      2\n",
            "3    A      3\n",
            "\n",
            "Right:\n",
            "  rkey  value\n",
            "0    A      4\n",
            "1    B      5\n",
            "2    D      6\n",
            "3    B      7\n",
            "Merge:\n",
            "  lkey  value_x rkey  value_y\n",
            "0    A      0.0    A      4.0\n",
            "1    A      3.0    A      4.0\n",
            "2    B      1.0    B      5.0\n",
            "3    B      1.0    B      7.0\n",
            "4    C      2.0  NaN      NaN\n",
            "5  NaN      NaN    D      6.0\n"
          ]
        }
      ]
    },
    {
      "cell_type": "markdown",
      "source": [
        "Внутреннее слияние — используются ключи из пересечения списков\n",
        "ключей. Иначе говоря, используются ключи, которые присутствуют в обеих\n",
        "таблицах."
      ],
      "metadata": {
        "id": "UOeB1wUcz5tP"
      }
    },
    {
      "cell_type": "code",
      "source": [
        "import pandas as pd\n",
        "import scipy.stats as sps\n",
        "left = pd.DataFrame({\"lkey\": [\"A\", \"B\", \"C\", \"A\"], \"value\": range(4)})\n",
        "right = pd.DataFrame({\"rkey\": [\"A\", \"B\", \"D\", \"B\"], \"value\": range(4, 8)})\n",
        "print(\"Left:\")\n",
        "print(left)\n",
        "print(\"\\nRight:\")\n",
        "print(right)\n",
        "df=pd.merge(left, right, left_on=\"lkey\", right_on=\"rkey\", how=\"inner\")\n",
        "print(\"\\nMerge:\")\n",
        "print(df)"
      ],
      "metadata": {
        "colab": {
          "base_uri": "https://localhost:8080/"
        },
        "id": "U03Uk35yz9Y8",
        "outputId": "2f07c29a-39f1-4951-9487-a834d3d1a5d0"
      },
      "execution_count": null,
      "outputs": [
        {
          "output_type": "stream",
          "name": "stdout",
          "text": [
            "Left:\n",
            "  lkey  value\n",
            "0    A      0\n",
            "1    B      1\n",
            "2    C      2\n",
            "3    A      3\n",
            "\n",
            "Right:\n",
            "  rkey  value\n",
            "0    A      4\n",
            "1    B      5\n",
            "2    D      6\n",
            "3    B      7\n",
            "\n",
            "Merge:\n",
            "  lkey  value_x rkey  value_y\n",
            "0    A        0    A        4\n",
            "1    A        3    A        4\n",
            "2    B        1    B        5\n",
            "3    B        1    B        7\n"
          ]
        }
      ]
    },
    {
      "cell_type": "markdown",
      "source": [
        "Объединение по ключам правой таблицы. Не используются ключи,\n",
        "которые есть в левой таблицы, но которых нет в правой. Если в левой\n",
        "таблице каких-то ключей нет, то ставятся пропуски."
      ],
      "metadata": {
        "id": "Bki0DYyh1wK2"
      }
    },
    {
      "cell_type": "code",
      "source": [
        "import numpy as np\n",
        "import pandas as pd\n",
        "import scipy.stats as sps\n",
        "left = pd.DataFrame({\"lkey\": [\"A\", \"B\", \"C\", \"A\"], \"value\": range(4)})\n",
        "right = pd.DataFrame({\"rkey\": [\"A\", \"B\", \"D\", \"B\"], \"value\": range(4, 8)})\n",
        "print(\"Left:\")\n",
        "print(left)\n",
        "print(\"\\nRight:\")\n",
        "print(right)\n",
        "df=pd.merge(left, right, left_on=\"lkey\", right_on=\"rkey\", how= \"right\")\n",
        "print(\"\\nMerge:\")\n",
        "print(df)"
      ],
      "metadata": {
        "colab": {
          "base_uri": "https://localhost:8080/"
        },
        "id": "P2BIpbNP1w0P",
        "outputId": "bd9b8f43-f601-4664-aab6-b6f3b9338422"
      },
      "execution_count": null,
      "outputs": [
        {
          "output_type": "stream",
          "name": "stdout",
          "text": [
            "Left:\n",
            "  lkey  value\n",
            "0    A      0\n",
            "1    B      1\n",
            "2    C      2\n",
            "3    A      3\n",
            "\n",
            "Right:\n",
            "  rkey  value\n",
            "0    A      4\n",
            "1    B      5\n",
            "2    D      6\n",
            "3    B      7\n",
            "\n",
            "Merge:\n",
            "  lkey  value_x rkey  value_y\n",
            "0    A      0.0    A        4\n",
            "1    A      3.0    A        4\n",
            "2    B      1.0    B        5\n",
            "3  NaN      NaN    D        6\n",
            "4    B      1.0    B        7\n"
          ]
        }
      ]
    },
    {
      "cell_type": "markdown",
      "source": [
        "Гуппировка"
      ],
      "metadata": {
        "id": "Fegm2hZS3JyO"
      }
    },
    {
      "cell_type": "code",
      "source": [
        "import pandas as pd\n",
        "import scipy.stats as sps\n",
        "df = pd.DataFrame({\"Животное\" : [\"Котик\", \"Песик\", \"Котик\", \"Песик\", \"Котик\", \n",
        "                                 \"Песик\", \"Котик\", \"Песик\"],\n",
        "                   \"Цвет шерсти\" : [\"белый\", \"белый\", \"коричневый\", \"черный\",\n",
        "                                    \"коричневый\", \"коричневый\", \"белый\", \"черный\"],\n",
        "                   \"Рост\" : sps.gamma(a=12, scale=3).rvs(size=8),\n",
        "                   \"Длина хвостика\" : sps.gamma(a=10).rvs(size=8)})\n",
        "print(df)"
      ],
      "metadata": {
        "colab": {
          "base_uri": "https://localhost:8080/"
        },
        "id": "tDcuxYY63sCF",
        "outputId": "2ae1368c-0015-4917-c716-6ba98f5ce442"
      },
      "execution_count": null,
      "outputs": [
        {
          "output_type": "stream",
          "name": "stdout",
          "text": [
            "  Животное Цвет шерсти       Рост  Длина хвостика\n",
            "0    Котик       белый  37.808596        6.928282\n",
            "1    Песик       белый  36.094477       16.978009\n",
            "2    Котик  коричневый  37.051133        9.924338\n",
            "3    Песик      черный  47.313802       12.544456\n",
            "4    Котик  коричневый  54.294706       11.874693\n",
            "5    Песик  коричневый  33.942836        7.914092\n",
            "6    Котик       белый  39.261240        8.667451\n",
            "7    Песик      черный  39.507292       11.053129\n"
          ]
        }
      ]
    },
    {
      "cell_type": "markdown",
      "source": [
        "Пример 1. Если все котики встанут друг на друга, то какой их\n",
        "суммарный рост? А у песиков? А какова суммарная длинна хвостиков у\n",
        "котиков и у песиков?"
      ],
      "metadata": {
        "id": "Obyqws0x5vPe"
      }
    },
    {
      "cell_type": "code",
      "source": [
        "import pandas as pd\n",
        "import scipy.stats as sps\n",
        "df = pd.DataFrame({\"Животное\" : [\"Котик\", \"Песик\", \"Котик\", \"Песик\", \"Котик\", \n",
        "                                 \"Песик\", \"Котик\", \"Песик\"],\n",
        "                   \"Цвет шерсти\" : [\"белый\", \"белый\", \"коричневый\", \"черный\",\n",
        "                                    \"коричневый\", \"коричневый\", \"белый\", \"черный\"],\n",
        "                   \"Рост\" : sps.gamma(a=12, scale=3).rvs(size=8),\n",
        "                   \"Длина хвостика\" : sps.gamma(a=10).rvs(size=8)})\n",
        "print(df.groupby(\"Животное\").sum())"
      ],
      "metadata": {
        "colab": {
          "base_uri": "https://localhost:8080/"
        },
        "id": "rnHVUD2l5wAe",
        "outputId": "548e72ea-09c3-4b1a-ad73-076f20223714"
      },
      "execution_count": null,
      "outputs": [
        {
          "output_type": "stream",
          "name": "stdout",
          "text": [
            "                Рост  Длина хвостика\n",
            "Животное                            \n",
            "Котик     138.392928       45.738752\n",
            "Песик     141.665250       33.732209\n"
          ]
        }
      ]
    },
    {
      "cell_type": "markdown",
      "source": [
        "Посчитаем описательные статистики для каждого животного"
      ],
      "metadata": {
        "id": "RV1q-2WBcgcY"
      }
    },
    {
      "cell_type": "code",
      "source": [
        "import pandas as pd\n",
        "import scipy.stats as sps\n",
        "df = pd.DataFrame({\"Животное\" : [\"Котик\", \"Песик\", \"Котик\", \"Песик\", \"Котик\", \n",
        "                                 \"Песик\", \"Котик\", \"Песик\"],\n",
        "                   \"Цвет шерсти\" : [\"белый\", \"белый\", \"коричневый\", \"черный\",\n",
        "                                    \"коричневый\", \"коричневый\", \"белый\", \"черный\"],\n",
        "                   \"Рост\" : sps.gamma(a=12, scale=3).rvs(size=8),\n",
        "                   \"Длина хвостика\" : sps.gamma(a=10).rvs(size=8)})\n",
        "print(df.groupby(\"Животное\").describe())"
      ],
      "metadata": {
        "colab": {
          "base_uri": "https://localhost:8080/"
        },
        "id": "xYWxTrJxchjc",
        "outputId": "6bc4f1af-dc5c-4925-9845-f6d136469a69"
      },
      "execution_count": null,
      "outputs": [
        {
          "output_type": "stream",
          "name": "stdout",
          "text": [
            "          Рост                                                         \\\n",
            "         count       mean        std        min        25%        50%   \n",
            "Животное                                                                \n",
            "Котик      4.0  43.527083  12.564824  27.525525  36.513004  46.163784   \n",
            "Песик      4.0  32.798474  10.128851  22.284584  25.622254  32.213114   \n",
            "\n",
            "                               Длина хвостика                                 \\\n",
            "                75%        max          count       mean       std       min   \n",
            "Животное                                                                       \n",
            "Котик     53.177863  54.255238            4.0  10.248123  1.354669  9.459699   \n",
            "Песик     39.389334  44.483083            4.0  11.378339  2.299814  9.400239   \n",
            "\n",
            "                                                     \n",
            "                25%       50%        75%        max  \n",
            "Животное                                             \n",
            "Котик      9.486992   9.63155  10.392681  12.269693  \n",
            "Песик     10.286462  10.70737  11.799247  14.698377  \n"
          ]
        }
      ]
    },
    {
      "cell_type": "markdown",
      "source": [
        "Пример 2. Теперь предположим, что котики и песики встают только на\n",
        "представителей своего вида и своего цвета шерсти. Что тогда будет?"
      ],
      "metadata": {
        "id": "F3rK9B5mdAiM"
      }
    },
    {
      "cell_type": "code",
      "source": [
        "import pandas as pd\n",
        "import scipy.stats as sps\n",
        "df = pd.DataFrame({\"Животное\" : [\"Котик\", \"Песик\", \"Котик\", \"Песик\", \"Котик\", \n",
        "                                 \"Песик\", \"Котик\", \"Песик\"],\n",
        "                   \"Цвет шерсти\" : [\"белый\", \"белый\", \"коричневый\", \"черный\",\n",
        "                                    \"коричневый\", \"коричневый\", \"белый\", \"черный\"],\n",
        "                   \"Рост\" : sps.gamma(a=12, scale=3).rvs(size=8),\n",
        "                   \"Длина хвостика\" : sps.gamma(a=10).rvs(size=8)})\n",
        "print(df.groupby([\"Животное\", \"Цвет шерсти\"]).sum())"
      ],
      "metadata": {
        "colab": {
          "base_uri": "https://localhost:8080/"
        },
        "id": "e_GsRab9dBL4",
        "outputId": "af1bb25a-ed51-4bff-f7a6-8cd83bf6135d"
      },
      "execution_count": null,
      "outputs": [
        {
          "output_type": "stream",
          "name": "stdout",
          "text": [
            "                            Рост  Длина хвостика\n",
            "Животное Цвет шерсти                            \n",
            "Котик    белый         79.203308       14.482007\n",
            "         коричневый    59.767583       17.383992\n",
            "Песик    белый         48.065720        7.852427\n",
            "         коричневый    14.186499        9.465834\n",
            "         черный       109.985423       32.452889\n"
          ]
        }
      ]
    },
    {
      "cell_type": "markdown",
      "source": [
        "Полученная таблица имеет мультииндекс"
      ],
      "metadata": {
        "id": "HFsZ5_UMdT4F"
      }
    },
    {
      "cell_type": "code",
      "source": [
        "import pandas as pd\n",
        "import scipy.stats as sps\n",
        "df = pd.DataFrame({\"Животное\" : [\"Котик\", \"Песик\", \"Котик\", \"Песик\", \"Котик\", \n",
        "                                 \"Песик\", \"Котик\", \"Песик\"],\n",
        "                   \"Цвет шерсти\" : [\"белый\", \"белый\", \"коричневый\", \"черный\",\n",
        "                                    \"коричневый\", \"коричневый\", \"белый\", \"черный\"],\n",
        "                   \"Рост\" : sps.gamma(a=12, scale=3).rvs(size=8),\n",
        "                   \"Длина хвостика\" : sps.gamma(a=10).rvs(size=8)})\n",
        "print(df.groupby([\"Животное\", \"Цвет шерсти\"]).sum().index)"
      ],
      "metadata": {
        "colab": {
          "base_uri": "https://localhost:8080/"
        },
        "id": "U6jZQ_0BdUm7",
        "outputId": "213fd0d5-b647-4cf3-c903-6526f242971b"
      },
      "execution_count": null,
      "outputs": [
        {
          "output_type": "stream",
          "name": "stdout",
          "text": [
            "MultiIndex([('Котик',      'белый'),\n",
            "            ('Котик', 'коричневый'),\n",
            "            ('Песик',      'белый'),\n",
            "            ('Песик', 'коричневый'),\n",
            "            ('Песик',     'черный')],\n",
            "           names=['Животное', 'Цвет шерсти'])\n"
          ]
        }
      ]
    },
    {
      "cell_type": "markdown",
      "source": [
        "Функции pd.crosstab и pd.pivot_table"
      ],
      "metadata": {
        "id": "8K6358CCdYp1"
      }
    },
    {
      "cell_type": "code",
      "source": [
        "import pandas as pd\n",
        "import scipy.stats as sps\n",
        "df = pd.DataFrame({\"Специальность\" : [\"Ветеринар\", \"Ветеринар\",\n",
        "                                      \"Психолог\", \"Психолог\"] * 6,\n",
        "                   \"Врач\" : [\"Андрей\", \"Сергей\", \"Ирина\"] * 8,\n",
        "                   \"Диагноз\" : [\"Простуда\", \"Простуда\", \"Простуда\",\n",
        "                                \"Волнения\", \"Волнения\", \"Простуда\"] * 4,\n",
        "                   \"Доза\" : sps.randint(low=1, high=6).rvs(size=24),\n",
        "                   \"Продолжительность\" : sps.randint(low=1, high=6).rvs(size=24)})\n",
        "print(df)"
      ],
      "metadata": {
        "colab": {
          "base_uri": "https://localhost:8080/"
        },
        "id": "_niJMd1CdsSJ",
        "outputId": "c90696b1-47b5-4b36-d1a9-ec56769b49d1"
      },
      "execution_count": null,
      "outputs": [
        {
          "output_type": "stream",
          "name": "stdout",
          "text": [
            "   Специальность    Врач   Диагноз  Доза  Продолжительность\n",
            "0      Ветеринар  Андрей  Простуда     4                  1\n",
            "1      Ветеринар  Сергей  Простуда     2                  1\n",
            "2       Психолог   Ирина  Простуда     1                  1\n",
            "3       Психолог  Андрей  Волнения     4                  2\n",
            "4      Ветеринар  Сергей  Волнения     2                  3\n",
            "5      Ветеринар   Ирина  Простуда     1                  4\n",
            "6       Психолог  Андрей  Простуда     3                  2\n",
            "7       Психолог  Сергей  Простуда     5                  3\n",
            "8      Ветеринар   Ирина  Простуда     2                  2\n",
            "9      Ветеринар  Андрей  Волнения     5                  5\n",
            "10      Психолог  Сергей  Волнения     2                  5\n",
            "11      Психолог   Ирина  Простуда     3                  3\n",
            "12     Ветеринар  Андрей  Простуда     1                  2\n",
            "13     Ветеринар  Сергей  Простуда     1                  4\n",
            "14      Психолог   Ирина  Простуда     1                  1\n",
            "15      Психолог  Андрей  Волнения     3                  3\n",
            "16     Ветеринар  Сергей  Волнения     3                  3\n",
            "17     Ветеринар   Ирина  Простуда     5                  1\n",
            "18      Психолог  Андрей  Простуда     3                  1\n",
            "19      Психолог  Сергей  Простуда     2                  1\n",
            "20     Ветеринар   Ирина  Простуда     1                  3\n",
            "21     Ветеринар  Андрей  Волнения     1                  2\n",
            "22      Психолог  Сергей  Волнения     5                  2\n",
            "23      Психолог   Ирина  Простуда     3                  4\n"
          ]
        }
      ]
    },
    {
      "cell_type": "markdown",
      "source": [
        "Посчитаем, сколько раз какой врач ставил каждый из диагнозов, а\n",
        "также суммы по строкам и столбцам"
      ],
      "metadata": {
        "id": "s3KEqVxEfsIt"
      }
    },
    {
      "cell_type": "code",
      "source": [
        "import pandas as pd\n",
        "import scipy.stats as sps\n",
        "df = pd.DataFrame({\"Специальность\" : [\"Ветеринар\", \"Ветеринар\",\n",
        "                                      \"Психолог\", \"Психолог\"] * 6,\n",
        "                   \"Врач\" : [\"Андрей\", \"Сергей\", \"Ирина\"] * 8,\n",
        "                   \"Диагноз\" : [\"Простуда\", \"Простуда\", \"Простуда\",\n",
        "                                \"Волнения\", \"Волнения\", \"Простуда\"] * 4,\n",
        "                   \"Доза\" : sps.randint(low=1, high=6).rvs(size=24),\n",
        "                   \"Продолжительность\" : sps.randint(low=1, high=6).rvs(size=24)})\n",
        "res=pd.crosstab(df[\"Врач\"], df[\"Диагноз\"], margins=True)\n",
        "print(res)"
      ],
      "metadata": {
        "colab": {
          "base_uri": "https://localhost:8080/"
        },
        "id": "S8DrUvhnfvXT",
        "outputId": "56999a2d-a0d2-41de-e279-868f8aa0b80b"
      },
      "execution_count": null,
      "outputs": [
        {
          "output_type": "stream",
          "name": "stdout",
          "text": [
            "Диагноз  Волнения  Простуда  All\n",
            "Врач                            \n",
            "Андрей          4         4    8\n",
            "Ирина           0         8    8\n",
            "Сергей          4         4    8\n",
            "All             8        16   24\n"
          ]
        }
      ]
    },
    {
      "cell_type": "markdown",
      "source": [
        "Посчитаем, какую среднюю дозу какой врач назначал по каждому из\n",
        "диагнозов"
      ],
      "metadata": {
        "id": "n7jFJ_LpgA99"
      }
    },
    {
      "cell_type": "code",
      "source": [
        "import pandas as pd\n",
        "import scipy.stats as sps\n",
        "import numpy as np\n",
        "df = pd.DataFrame({\"Специальность\" : [\"Ветеринар\", \"Ветеринар\",\n",
        "                                      \"Психолог\", \"Психолог\"] * 6,\n",
        "                   \"Врач\" : [\"Андрей\", \"Сергей\", \"Ирина\"] * 8,\n",
        "                   \"Диагноз\" : [\"Простуда\", \"Простуда\", \"Простуда\",\n",
        "                                \"Волнения\", \"Волнения\", \"Простуда\"] * 4,\n",
        "                   \"Доза\" : sps.randint(low=1, high=6).rvs(size=24),\n",
        "                   \"Продолжительность\" : sps.randint(low=1, high=6).rvs(size=24)})\n",
        "res=pd.crosstab(df[\"Врач\"], df[\"Диагноз\"], values=df[\"Доза\"], aggfunc=np.mean)\n",
        "print(res)"
      ],
      "metadata": {
        "colab": {
          "base_uri": "https://localhost:8080/"
        },
        "id": "YAJF-hBpgGin",
        "outputId": "3b7dae33-64e0-43a2-c521-45fc4029eec5"
      },
      "execution_count": null,
      "outputs": [
        {
          "output_type": "stream",
          "name": "stdout",
          "text": [
            "Диагноз  Волнения  Простуда\n",
            "Врач                       \n",
            "Андрей       2.25     4.250\n",
            "Ирина         NaN     2.125\n",
            "Сергей       3.75     3.500\n"
          ]
        }
      ]
    },
    {
      "cell_type": "markdown",
      "source": [
        "Простейший вариант сводной таблицы — среднее в группах,\n",
        "определяемых столбцом. Посчитаем средние по каждому врачу"
      ],
      "metadata": {
        "id": "sRSNXXoqg7zi"
      }
    },
    {
      "cell_type": "code",
      "source": [
        "import pandas as pd\n",
        "import scipy.stats as sps\n",
        "import numpy as np\n",
        "df = pd.DataFrame({\"Специальность\" : [\"Ветеринар\", \"Ветеринар\",\n",
        "                                      \"Психолог\", \"Психолог\"] * 6,\n",
        "                   \"Врач\" : [\"Андрей\", \"Сергей\", \"Ирина\"] * 8,\n",
        "                   \"Диагноз\" : [\"Простуда\", \"Простуда\", \"Простуда\",\n",
        "                                \"Волнения\", \"Волнения\", \"Простуда\"] * 4,\n",
        "                   \"Доза\" : sps.randint(low=1, high=6).rvs(size=24),\n",
        "                   \"Продолжительность\" : sps.randint(low=1, high=6).rvs(size=24)})\n",
        "res=pd.pivot_table(df, index=[\"Врач\"])\n",
        "print(res)"
      ],
      "metadata": {
        "colab": {
          "base_uri": "https://localhost:8080/"
        },
        "id": "ub_5d0OEg-9Y",
        "outputId": "e2da87c4-5c37-4bfb-e5b8-975682ad976b"
      },
      "execution_count": null,
      "outputs": [
        {
          "output_type": "stream",
          "name": "stdout",
          "text": [
            "         Доза  Продолжительность\n",
            "Врач                            \n",
            "Андрей  2.500              3.000\n",
            "Ирина   2.750              3.375\n",
            "Сергей  2.625              3.125\n"
          ]
        }
      ]
    },
    {
      "cell_type": "markdown",
      "source": [
        "Посчитаем, сколько раз врач и в какой специальности ставил тот или\n",
        "иной диагноз"
      ],
      "metadata": {
        "id": "Y6w69a2yhR_c"
      }
    },
    {
      "cell_type": "code",
      "source": [
        "import pandas as pd\n",
        "import scipy.stats as sps\n",
        "import numpy as np\n",
        "df = pd.DataFrame({\"Специальность\" : [\"Ветеринар\", \"Ветеринар\",\n",
        "                                      \"Психолог\", \"Психолог\"] * 6,\n",
        "                   \"Врач\" : [\"Андрей\", \"Сергей\", \"Ирина\"] * 8,\n",
        "                   \"Диагноз\" : [\"Простуда\", \"Простуда\", \"Простуда\",\n",
        "                                \"Волнения\", \"Волнения\", \"Простуда\"] * 4,\n",
        "                   \"Доза\" : sps.randint(low=1, high=6).rvs(size=24),\n",
        "                   \"Продолжительность\" : sps.randint(low=1, high=6).rvs(size=24)})\n",
        "res=pd.pivot_table(df, values= \"Доза\", index=[\"Специальность\", \"Врач\"], \n",
        "                   columns=[\"Диагноз\"], aggfunc=np.sum)\n",
        "print(res)"
      ],
      "metadata": {
        "colab": {
          "base_uri": "https://localhost:8080/"
        },
        "id": "Q_0gZ9L0hmLH",
        "outputId": "e665ebc4-6931-4b33-dd92-4a2a43057425"
      },
      "execution_count": null,
      "outputs": [
        {
          "output_type": "stream",
          "name": "stdout",
          "text": [
            "Диагноз               Волнения  Простуда\n",
            "Специальность Врач                      \n",
            "Ветеринар     Андрей       6.0       5.0\n",
            "              Ирина        NaN      15.0\n",
            "              Сергей       6.0       6.0\n",
            "Психолог      Андрей       9.0       9.0\n",
            "              Ирина        NaN      14.0\n",
            "              Сергей       8.0       5.0\n"
          ]
        }
      ]
    },
    {
      "cell_type": "markdown",
      "source": [
        "Добавим строчку, являющейся суммой столбцов, и столбец,\n",
        "являющийся суммой строк"
      ],
      "metadata": {
        "id": "8v6I45_VilIq"
      }
    },
    {
      "cell_type": "code",
      "source": [
        "import pandas as pd\n",
        "import scipy.stats as sps\n",
        "import numpy as np\n",
        "df = pd.DataFrame({\"Специальность\" : [\"Ветеринар\", \"Ветеринар\",\n",
        "                                      \"Психолог\", \"Психолог\"] * 6,\n",
        "                   \"Врач\" : [\"Андрей\", \"Сергей\", \"Ирина\"] * 8,\n",
        "                   \"Диагноз\" : [\"Простуда\", \"Простуда\", \"Простуда\",\n",
        "                                \"Волнения\", \"Волнения\", \"Простуда\"] * 4,\n",
        "                   \"Доза\" : sps.randint(low=1, high=6).rvs(size=24),\n",
        "                   \"Продолжительность\" : sps.randint(low=1, high=6).rvs(size=24)})\n",
        "res=pd.pivot_table(df, values= \"Доза\", index=[\"Специальность\", \"Врач\"], \n",
        "                   columns=[\"Диагноз\"], \n",
        "                   aggfunc=np.sum, margins=True)\n",
        "print(res)"
      ],
      "metadata": {
        "colab": {
          "base_uri": "https://localhost:8080/"
        },
        "id": "DIhu7mZyilwn",
        "outputId": "e3c70def-bf55-42bb-ed49-d08ddef0b5e9"
      },
      "execution_count": null,
      "outputs": [
        {
          "output_type": "stream",
          "name": "stdout",
          "text": [
            "Диагноз               Волнения  Простуда  All\n",
            "Специальность Врач                           \n",
            "Ветеринар     Андрей       4.0       6.0   10\n",
            "              Ирина        NaN      13.0   13\n",
            "              Сергей       7.0       8.0   15\n",
            "Психолог      Андрей       7.0       4.0   11\n",
            "              Ирина        NaN      11.0   11\n",
            "              Сергей       9.0       6.0   15\n",
            "All                       27.0      48.0   75\n"
          ]
        }
      ]
    },
    {
      "cell_type": "markdown",
      "source": [
        "Применим несколько функций и несколько столбцов со значениями"
      ],
      "metadata": {
        "id": "L8C8FX7VjEP5"
      }
    },
    {
      "cell_type": "code",
      "source": [
        "import pandas as pd\n",
        "import scipy.stats as sps\n",
        "import numpy as np\n",
        "df = pd.DataFrame({\"Специальность\" : [\"Ветеринар\", \"Ветеринар\",\n",
        "                                      \"Психолог\", \"Психолог\"] * 6,\n",
        "                   \"Врач\" : [\"Андрей\", \"Сергей\", \"Ирина\"] * 8,\n",
        "                   \"Диагноз\" : [\"Простуда\", \"Простуда\", \"Простуда\",\n",
        "                                \"Волнения\", \"Волнения\", \"Простуда\"] * 4,\n",
        "                   \"Доза\" : sps.randint(low=1, high=6).rvs(size=24),\n",
        "                   \"Продолжительность\" : sps.randint(low=1, high=6).rvs(size=24)})\n",
        "res=pd.pivot_table(df, values=[\"Доза\", \"Продолжительность\"],\n",
        "                   index=[\"Специальность\", \"Врач\"],\n",
        "                   columns=[\"Диагноз\"],\n",
        "                   aggfunc=[np.min, np.mean, np.max], margins=True)\n",
        "print(res)"
      ],
      "metadata": {
        "colab": {
          "base_uri": "https://localhost:8080/"
        },
        "id": "JrkPKOBWjE9p",
        "outputId": "8a21311e-f2e8-4b60-af73-a4fba766783c"
      },
      "execution_count": null,
      "outputs": [
        {
          "output_type": "stream",
          "name": "stdout",
          "text": [
            "                         amin                                              \\\n",
            "                         Доза              Продолжительность                \n",
            "Диагноз              Волнения Простуда All          Волнения Простуда All   \n",
            "Специальность Врач                                                          \n",
            "Ветеринар     Андрей      1.0      1.0   1               2.0      2.0   2   \n",
            "              Ирина       NaN      1.0   1               NaN      3.0   3   \n",
            "              Сергей      1.0      2.0   1               3.0      1.0   1   \n",
            "Психолог      Андрей      2.0      1.0   1               2.0      1.0   1   \n",
            "              Ирина       NaN      1.0   1               NaN      2.0   2   \n",
            "              Сергей      1.0      4.0   1               4.0      3.0   3   \n",
            "All                       1.0      1.0   1               2.0      1.0   1   \n",
            "\n",
            "                         mean                                                \\\n",
            "                         Доза                    Продолжительность            \n",
            "Диагноз              Волнения Простуда       All          Волнения Простуда   \n",
            "Специальность Врач                                                            \n",
            "Ветеринар     Андрей    2.500   3.0000  2.750000              3.50   2.5000   \n",
            "              Ирина       NaN   3.0000  3.000000               NaN   3.2500   \n",
            "              Сергей    1.500   2.0000  1.750000              3.50   2.5000   \n",
            "Психолог      Андрей    3.000   3.0000  3.000000              3.50   2.0000   \n",
            "              Ирина       NaN   2.5000  2.500000               NaN   4.0000   \n",
            "              Сергей    1.500   4.5000  3.000000              4.50   4.0000   \n",
            "All                     2.125   2.9375  2.666667              3.75   3.1875   \n",
            "\n",
            "                                amax                                          \\\n",
            "                                Доза              Продолжительность            \n",
            "Диагноз                 All Волнения Простуда All          Волнения Простуда   \n",
            "Специальность Врач                                                             \n",
            "Ветеринар     Андрей  3.000      4.0      5.0   5               5.0      3.0   \n",
            "              Ирина   3.250      NaN      4.0   4               NaN      4.0   \n",
            "              Сергей  3.000      2.0      2.0   2               4.0      4.0   \n",
            "Психолог      Андрей  2.750      4.0      5.0   5               5.0      3.0   \n",
            "              Ирина   4.000      NaN      5.0   5               NaN      5.0   \n",
            "              Сергей  4.250      2.0      5.0   5               5.0      5.0   \n",
            "All                   3.375      4.0      5.0   5               5.0      5.0   \n",
            "\n",
            "                          \n",
            "                          \n",
            "Диагноз              All  \n",
            "Специальность Врач        \n",
            "Ветеринар     Андрей   5  \n",
            "              Ирина    4  \n",
            "              Сергей   4  \n",
            "Психолог      Андрей   5  \n",
            "              Ирина    5  \n",
            "              Сергей   5  \n",
            "All                    5  \n"
          ]
        }
      ]
    }
  ]
}